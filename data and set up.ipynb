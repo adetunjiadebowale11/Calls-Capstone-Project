#Import numpy and pandas
import numpy as np
import pandas as pd

#import visualization libraries and set %matplotlib inline
import matplotlib.pyplot as plt
import seaborn as sns
%matplotlib inline

#read csv file as dataframe
df = pd.read_csv('911.csv')
#check info of df
df.info()
#What are the top 5 zipcodes for 911 calls?
df['zip'].value_counts().head(5)
#What are the top 5 townships (twp) for 911 calls?
df['twp'].value_counts().head(5)
# How many unique title codes are in the title column?
df['title'].nunique()

#Create a reason column from the title column using lambda
df['Reason'] = df['title'].apply(lambda title: title.split(':')[0])

#What is the most common reason for a 911 call based on the new column-Reason?
df['Reason'].value_counts().head(1)

#use seaborn to create a countplot of calls by Reason
sns.countplot(x='Reason',data=df)

#data type of objects in the timestamp column
type(df['timestamp'].iloc[0])

#Use pd.to_datetime to convert the column from strings to DateTime objects
df['timeStamp'] = pd.to_datetime(df['timeStamp'])

#Create new columns-hours,months,dayofweek from the timestamp column
df['Hour'] = df['timeStamp'].apply(lambda time: time.hour)
df['Month'] = df['timeStamp'].apply(lambda time: time.month)
df['Day of Week'] = df['timeStamp'].apply(lambda time: time.dayofweek)

#Use the .map() with this dictionary to map the actual string names to the day of the week
dmap = {0:'Mon',1:'Tue',2:'Wed',3:'Thu',4:'Fri',5:'Sat',6:'Sun'}
df['Day of Week'] = df['Day of Week'].map(dmap)

#use seaborn to create a countplot of the Day of Week column with the hue based off of the Reason column
sns.countplot(x='Day of Week',data=df,hue='Reason',palette='viridis')
# To relocate the legend
plt.legend(bbox_to_anchor=(1.05, 1), loc=2, borderaxespad=0.)
